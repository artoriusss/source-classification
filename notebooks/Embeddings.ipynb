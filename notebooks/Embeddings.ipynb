{
 "cells": [
  {
   "cell_type": "code",
   "execution_count": 1,
   "id": "37031276-316c-4b93-9abc-038fe317b445",
   "metadata": {
    "tags": []
   },
   "outputs": [
    {
     "name": "stdout",
     "output_type": "stream",
     "text": [
      "        source_id  message_id  \\\n",
      "0          253122  1415474509   \n",
      "1          253122  1408345528   \n",
      "2          253122  1394795522   \n",
      "3          253122  1364623985   \n",
      "4          253122  1364694325   \n",
      "...           ...         ...   \n",
      "373306     226841   776160744   \n",
      "373307     226841   776160747   \n",
      "373308     226841   775473825   \n",
      "373309     226841   775473830   \n",
      "373310     226841   775473839   \n",
      "\n",
      "                                                     text  impressions  \\\n",
      "0       https://www.youtube.com/watch?v=eR9FIPXffUw&li...        945.0   \n",
      "1       Плохо спится в белую петербургскую ночь. Котор...       1429.0   \n",
      "2       «Давайте посмотрим внимательно, какую свободу ...       1158.0   \n",
      "3       К добрым словам Владимира Гельмана в мой адрес...       1071.0   \n",
      "4       Известный политолог, профессор университета Хе...       1087.0   \n",
      "...                                                   ...          ...   \n",
      "373306  Российские военные совместно с волонтерской ор...        512.0   \n",
      "373307  Прибывшие после 19 февраля в Россию граждане У...        507.0   \n",
      "373308  За сутки Россия эвакуировала более 1,1 тысячи ...        484.0   \n",
      "373309  Более 17 тысяч украинских беженцев пересекли р...        462.0   \n",
      "373310  В Харьковскую область запустили подачу электри...        598.0   \n",
      "\n",
      "        reactions  shares  comments   published_at content_type  \n",
      "0              21     3.0         0  1719316225000         POST  \n",
      "1             164     3.0         1  1719264774000         POST  \n",
      "2              84     9.0         1  1719142384000         POST  \n",
      "3              86     2.0         0  1718896766000         POST  \n",
      "4             118     4.0         2  1718896468000         POST  \n",
      "...           ...     ...       ...            ...          ...  \n",
      "373306          0     0.0         0  1652353295000         POST  \n",
      "373307          0     0.0         0  1652341976000       REPOST  \n",
      "373308          0     0.0         0  1652290329000       REPOST  \n",
      "373309          0     0.0         0  1652283583000       REPOST  \n",
      "373310          0     0.0         0  1652275500000         POST  \n",
      "\n",
      "[373311 rows x 9 columns]\n"
     ]
    }
   ],
   "source": [
    "import json\n",
    "import pandas as pd\n",
    "\n",
    "\n",
    "lines = []\n",
    "with open('../ai-defence-summer-school-2024/messages/messages.jsonl') as f:\n",
    "    lines = f.read().splitlines()\n",
    "\n",
    "line_dicts = [json.loads(line) for line in lines]\n",
    "df = pd.DataFrame(line_dicts)\n",
    "\n",
    "print(df)"
   ]
  },
  {
   "cell_type": "code",
   "execution_count": 2,
   "id": "244da438-7009-429c-b8ad-335e18d5dd5e",
   "metadata": {
    "tags": []
   },
   "outputs": [],
   "source": [
    "import numpy as np\n",
    "import pandas as pd\n",
    "# import matplotlib.pyplot as plt\n",
    "import nltk\n",
    "import requests\n",
    "import ast\n",
    "import re\n",
    "from nltk.corpus import stopwords\n",
    "# from wordcloud import WordCloud\n",
    "from tqdm.auto import tqdm\n",
    "# from ftlangdetect import detect\n",
    "from nltk import tokenize\n",
    "from sklearn.model_selection import train_test_split\n",
    "from sklearn.feature_extraction.text import TfidfVectorizer"
   ]
  },
  {
   "cell_type": "code",
   "execution_count": 3,
   "id": "80e28579-ded0-4b52-8a0e-2ed681d8f54a",
   "metadata": {
    "tags": []
   },
   "outputs": [
    {
     "data": {
      "text/plain": [
       "Index(['source_id', 'message_id', 'text', 'impressions', 'reactions', 'shares',\n",
       "       'comments', 'published_at', 'content_type'],\n",
       "      dtype='object')"
      ]
     },
     "execution_count": 3,
     "metadata": {},
     "output_type": "execute_result"
    }
   ],
   "source": [
    "df.columns"
   ]
  },
  {
   "cell_type": "code",
   "execution_count": 4,
   "id": "2a5e9ebe-bc15-4b1c-9942-448848cd7b20",
   "metadata": {
    "tags": []
   },
   "outputs": [],
   "source": [
    "tqdm.pandas()"
   ]
  },
  {
   "cell_type": "code",
   "execution_count": 5,
   "id": "bdf97d3d-f979-4ff5-8fe6-6405e8808ada",
   "metadata": {
    "tags": []
   },
   "outputs": [],
   "source": [
    "stopwords_ua_source_url = 'https://raw.githubusercontent.com/skupriienko/Ukrainian-Stopwords/master/stopwords_ua_list.txt'\n",
    "stopwords_ru_source_url='https://raw.githubusercontent.com/stopwords-iso/stopwords-ru/master/stopwords-ru.txt'\n",
    "results_ua = requests.get(stopwords_ua_source_url)\n",
    "results_ru = requests.get(stopwords_ru_source_url)\n",
    "stopwords_en = stopwords.words('english')\n",
    "stopwords_ua = ast.literal_eval(results_ua.text)\n",
    "stopwords_ru = results_ru.text.split('\\n')\n",
    "stopwords_all=stopwords_ua+stopwords_ru+stopwords_en"
   ]
  },
  {
   "cell_type": "code",
   "execution_count": 6,
   "id": "8fd47b6c-ec72-4835-b267-57b981bfdc54",
   "metadata": {
    "tags": []
   },
   "outputs": [
    {
     "data": {
      "application/vnd.jupyter.widget-view+json": {
       "model_id": "5004c94c8bc64b53aec1c1f03490d6a1",
       "version_major": 2,
       "version_minor": 0
      },
      "text/plain": [
       "  0%|          | 0/365599 [00:00<?, ?it/s]"
      ]
     },
     "metadata": {},
     "output_type": "display_data"
    }
   ],
   "source": [
    "df.fillna(0, inplace=True)\n",
    "\n",
    "# Remove comments\n",
    "messages_df_preprocessed = df[\n",
    "    (df.content_type != 'COMMENT') | (df.text=='')].drop_duplicates(subset=['source_id', 'text'])\n",
    "\n",
    "# Remove only urls\n",
    "url_regex=re.compile(r\"http[s]*\\S+$\")\n",
    "is_url = messages_df_preprocessed.text.progress_apply(lambda x: bool(url_regex.match(x)))\n",
    "messages_df_preprocessed=messages_df_preprocessed[~is_url]\n"
   ]
  },
  {
   "cell_type": "code",
   "execution_count": 8,
   "id": "6432826e-8048-44e7-98e7-2f314df6b8a8",
   "metadata": {
    "tags": []
   },
   "outputs": [],
   "source": [
    "word_tokenizer = tokenize.RegexpTokenizer(r'\\w+')\n",
    "\n",
    "emoji_pattern = re.compile(\"[\"\n",
    "        u\"\\U0001F600-\\U0001F64F\"  # emoticons\n",
    "        u\"\\U0001F300-\\U0001F5FF\"  # symbols & pictographs\n",
    "        u\"\\U0001F680-\\U0001F6FF\"  # transport & map symbols\n",
    "        u\"\\U0001F1E0-\\U0001F1FF\"  # flags (iOS)\n",
    "        u\"\\U00002500-\\U00002BEF\"  # chinese char\n",
    "        u\"\\U00002702-\\U000027B0\"\n",
    "        u\"\\U000024C2-\\U0001F251\"\n",
    "        u\"\\U0001f926-\\U0001f937\"\n",
    "        u\"\\U00010000-\\U0010ffff\"\n",
    "        u\"\\u2640-\\u2642\" \n",
    "        u\"\\u2600-\\u2B55\"\n",
    "        u\"\\u200d\"\n",
    "        u\"\\u23cf\"\n",
    "        u\"\\u23e9\"\n",
    "        u\"\\u231a\"\n",
    "        u\"\\ufe0f\"  # dingbats\n",
    "        u\"\\u3030\"\n",
    "                           \"]+\", flags=re.UNICODE)"
   ]
  },
  {
   "cell_type": "code",
   "execution_count": 9,
   "id": "bff50577-b2a1-45a4-95e4-7311b6656e65",
   "metadata": {
    "tags": []
   },
   "outputs": [],
   "source": [
    "def collapse_dots(input):\n",
    "    input = re.sub(\"\\.+\", \".\", input)\n",
    "    all_collapsed = False\n",
    "    while not all_collapsed:\n",
    "        output = re.sub(r\"\\.(( )*)\\.\", \".\", input)\n",
    "        all_collapsed = input == output\n",
    "        input = output\n",
    "    return output\n",
    "\n",
    "def preprocess_hard(input):\n",
    "    words_list = []\n",
    "    for token in word_tokenizer.tokenize(input):\n",
    "        if token.lower() not in stopwords_all:\n",
    "            words_list.append(token)\n",
    "        result_str = \" \".join(words_list)\n",
    "    return result_str\n",
    "\n",
    "\n",
    "def process(input, light=True):\n",
    "    if not isinstance(input, str):\n",
    "        return input\n",
    "    \n",
    "    input = \" \".join(tokenize.sent_tokenize(input))\n",
    "    \n",
    "    # Remove links\n",
    "    input = re.sub(r\"http[s]*\\S+$\", \"\", input)\n",
    "    # Remove new line tag\n",
    "    input = re.sub(r\"\\n+\", \". \", input)\n",
    "    # Remove emojis\n",
    "    input = re.sub(emoji_pattern, '', input)\n",
    "    # Replace telegram link with dot\n",
    "    input = re.sub(r\"\\bt\\.me/\\S+\", \".\", input)\n",
    "    # Remove sentence containing 'subscribe'\n",
    "    input = re.sub(r\"\\bПодпишитесь на\\b.*?\\.\", '', input)\n",
    "    # Remove underscore\n",
    "    input = input.replace(\"_\", \"\")\n",
    "    # Remove symbol followed by dot\n",
    "    for symb in [\"!\", \",\", \":\", \";\", \"?\", \"_\"]:\n",
    "        input = re.sub(rf\"\\{symb}\\.\", symb, input)\n",
    "    # Remove hashtag\n",
    "    input = re.sub(r\"#\\S+\", \"\", input)\n",
    "    # Remove user mentioning\n",
    "    input = re.sub(r\"@\\S+\", \"\", input)\n",
    "    # Collapse dots\n",
    "    input = collapse_dots(input)\n",
    "    input = input.strip()\n",
    "    \n",
    "    if light:\n",
    "        return input\n",
    "    \n",
    "    return preprocess_hard(input)"
   ]
  },
  {
   "cell_type": "code",
   "execution_count": 10,
   "id": "550c48c4-8a69-426b-a34c-ac913905b8e1",
   "metadata": {
    "tags": []
   },
   "outputs": [
    {
     "data": {
      "application/vnd.jupyter.widget-view+json": {
       "model_id": "457adbfbe8a84c66b7a43fb50354efe7",
       "version_major": 2,
       "version_minor": 0
      },
      "text/plain": [
       "  0%|          | 0/359539 [00:00<?, ?it/s]"
      ]
     },
     "metadata": {},
     "output_type": "display_data"
    }
   ],
   "source": [
    "messages_df_preprocessed['processed_text'] = messages_df_preprocessed['text'].progress_apply(process)"
   ]
  },
  {
   "cell_type": "code",
   "execution_count": 11,
   "id": "d3a62feb-ba0b-4755-a693-6fa3651db999",
   "metadata": {
    "tags": []
   },
   "outputs": [],
   "source": [
    "train = pd.read_csv('../ai-defence-summer-school-2024/train.csv')\n",
    "\n",
    "cols = ['source_id']\n",
    "\n",
    "df_merged = messages_df_preprocessed.join(train.set_index(cols), on=cols, how='inner',)"
   ]
  },
  {
   "cell_type": "code",
   "execution_count": 13,
   "id": "ef91ad9b-6446-4703-8ba8-a36dad4a70fa",
   "metadata": {
    "tags": []
   },
   "outputs": [],
   "source": [
    "embeddings_0_80000 = np.load('./embeddings/embeddings[0, 80000].npy', allow_pickle=True)"
   ]
  },
  {
   "cell_type": "code",
   "execution_count": null,
   "id": "bd6a6b5f-143c-4537-b1a5-aead45b01dfe",
   "metadata": {},
   "outputs": [],
   "source": []
  },
  {
   "cell_type": "code",
   "execution_count": 84,
   "id": "318d34b5-d9cb-4f7a-b8f3-7af53cb93b86",
   "metadata": {
    "tags": []
   },
   "outputs": [
    {
     "name": "stdout",
     "output_type": "stream",
     "text": [
      "./embeddings/embedding-fetcher.log\n",
      "./embeddings/embeddings[0, 80000].npy\n",
      "./embeddings/embeddings[0, 80000]_.npy\n",
      "./embeddings/embeddings[200000, 300000].npy\n",
      "./embeddings/embeddings[80000, 100000].npy\n",
      "./embeddings/embeddings[100000, 200000].npy\n",
      "./embeddings/embeddings[300000, 359539].npy\n"
     ]
    }
   ],
   "source": [
    "import os\n",
    "for dirname, _, filenames in os.walk('./embeddings'):\n",
    "    for filename in filenames:\n",
    "        print(os.path.join(dirname, filename))"
   ]
  },
  {
   "cell_type": "code",
   "execution_count": 14,
   "id": "464a7bf4-4a67-4f08-bde3-06eac823032f",
   "metadata": {
    "tags": []
   },
   "outputs": [],
   "source": [
    "import requests\n",
    "import io\n",
    "\n",
    "# response = requests.get('https://www.kaggleusercontent.com/kf/185976648/eyJhbGciOiJkaXIiLCJlbmMiOiJBMTI4Q0JDLUhTMjU2In0..tFnHZ6jACUsANpVvtgdM0w.5aq0Xu5wE4w2_5hpNENsZdbZp14panev7X8zGhHaY2zXJlQZ4Bk9UeKwGKo7ZGiB23UGJsPeeeNl5ZiKbOI_ZxgrN7S3uU0ft9Gvo9dp4CQ6wDbNRvt3fiJuz12um8zxHoTOex2JHvnamhtZQVVIZz7uOF_bFnB4xhZmLsoB-5ZoYMQs5rszEg6h3UGppxvcylY7AixezN3WVLOlzZAHWBNH4IGV0Vdc5nXmjmDoLeF2IO2li3Yaa3Oc61W42uGi9K43l9kYqwrc5mmb_9Z3McDc1kU1p_GKaSV9ov9RS2MwohZ7fURQNxKBYECquENcpgBdF02Z779dZC2a3Gh2l6Sgwqlxj9rk_UsmyJNepD7HzdLHE7CGnG2KvcN5pOmIGpvHstUYx1GGGx98TUUcQ5XvGqDCjUMT_eQ1x8jWOXVpbGMSMeQl18gNnA-zpWq9O9tMwYxZVgJB_qJq0xytjVtwiRY1Dkaxuk8HGpproOJWa2nY5I4ahueg-FfVXlICCQjxBuJxA9IfDOgwj-kn6xXqUgzIYEpk18ThaR85QVMEYThRx-NNqTADwMSC0z2zIhvJSsgvO1sSW6crihhoMwzkkFqbjwPKseRn6DlJsrdUkrAd4nD8UF5R1BUNLyOzP-xnlpiF3POnMycXEg1k3g.WYoIhfa8f264yozX8U4lJg/embeddings[0,%2080000].npy')\n",
    "# response.raise_for_status()\n",
    "# data = np.load(io.BytesIO(response.content))  # Works!\n",
    "# embeddings_0_80000 = np.load(io.BytesIO(response.content), allow_pickle=True)\n",
    "\n",
    "embeddings_0_80000 = np.load('./embeddings/embeddings[0, 80000].npy', allow_pickle=True)\n",
    "embeddings_80000_100000 = np.load('./embeddings/embeddings[80000, 100000].npy', allow_pickle=True)\n",
    "embeddings_100000_200000 = np.load('./embeddings/embeddings[100000, 200000].npy', allow_pickle=True)\n",
    "embeddings_200000_300000 = np.load('./embeddings/embeddings[200000, 300000].npy', allow_pickle=True)\n",
    "embeddings_300000_359539 = np.load('./embeddings/embeddings[300000, 359539].npy', allow_pickle=True)"
   ]
  },
  {
   "cell_type": "code",
   "execution_count": 15,
   "id": "cb181170-4709-4942-a90f-1e7387e90536",
   "metadata": {
    "tags": []
   },
   "outputs": [],
   "source": [
    "df_embeddings = [*embeddings_0_80000, *embeddings_80000_100000, *embeddings_100000_200000, *embeddings_200000_300000, *embeddings_300000_359539]\n",
    "\n",
    "to_drop_idx = [i for i,v in enumerate(df_embeddings) if v == None]"
   ]
  },
  {
   "cell_type": "code",
   "execution_count": 16,
   "id": "16988337-b8e9-4f9b-a923-6b142f3ef477",
   "metadata": {
    "tags": []
   },
   "outputs": [
    {
     "data": {
      "text/plain": [
       "359539"
      ]
     },
     "execution_count": 16,
     "metadata": {},
     "output_type": "execute_result"
    }
   ],
   "source": [
    "len(df_embeddings)"
   ]
  },
  {
   "cell_type": "code",
   "execution_count": 17,
   "id": "ecb0553a-4dda-4ae4-8327-ba96ac155dc5",
   "metadata": {
    "tags": []
   },
   "outputs": [
    {
     "data": {
      "text/plain": [
       "80000"
      ]
     },
     "execution_count": 17,
     "metadata": {},
     "output_type": "execute_result"
    }
   ],
   "source": [
    "len(embeddings_0_80000)"
   ]
  },
  {
   "cell_type": "code",
   "execution_count": 18,
   "id": "80676cb0-1e0b-4445-adfc-6d1b43939df3",
   "metadata": {
    "tags": []
   },
   "outputs": [
    {
     "data": {
      "text/plain": [
       "2196"
      ]
     },
     "execution_count": 18,
     "metadata": {},
     "output_type": "execute_result"
    }
   ],
   "source": [
    "len(to_drop_idx)"
   ]
  },
  {
   "cell_type": "code",
   "execution_count": 60,
   "id": "b3d4b52c-3ea4-4eec-acad-c2713a09f0cb",
   "metadata": {
    "tags": []
   },
   "outputs": [],
   "source": [
    "# np.save('./embeddings/embeddings[0, 80000]_', np.asarray(embeddings_0_80000, dtype=\"object\"))\n",
    "#"
   ]
  },
  {
   "cell_type": "code",
   "execution_count": 19,
   "id": "91725153-cc92-4a83-9b9f-fa5f8c76b6cb",
   "metadata": {
    "tags": []
   },
   "outputs": [
    {
     "name": "stdout",
     "output_type": "stream",
     "text": [
      "Requirement already satisfied: xgboost in /opt/conda/envs/df_1/lib/python3.10/site-packages (2.1.0)\n",
      "Requirement already satisfied: numpy in /opt/conda/envs/df_1/lib/python3.10/site-packages (from xgboost) (1.26.4)\n",
      "Requirement already satisfied: nvidia-nccl-cu12 in /opt/conda/envs/df_1/lib/python3.10/site-packages (from xgboost) (2.22.3)\n",
      "Requirement already satisfied: scipy in /opt/conda/envs/df_1/lib/python3.10/site-packages (from xgboost) (1.10.1)\n",
      "Note: you may need to restart the kernel to use updated packages.\n"
     ]
    }
   ],
   "source": [
    "pip install xgboost"
   ]
  },
  {
   "cell_type": "code",
   "execution_count": 20,
   "id": "2cb05217-ce56-4741-9dc2-98bc0696ad45",
   "metadata": {
    "tags": []
   },
   "outputs": [],
   "source": [
    "# from numpy import loadtxt\n",
    "# from xgboost import XGBClassifier\n",
    "# from sklearn.model_selection import train_test_split\n",
    "# from sklearn.metrics import accuracy_score"
   ]
  },
  {
   "cell_type": "code",
   "execution_count": 21,
   "id": "864af7e9-4180-4cea-a4c2-ee4a2b5323b0",
   "metadata": {
    "tags": []
   },
   "outputs": [],
   "source": [
    "df_embeddings_filtered = np.delete(np.asarray(df_embeddings, dtype=object), to_drop_idx)"
   ]
  },
  {
   "cell_type": "code",
   "execution_count": 79,
   "id": "daac9579-c254-46a1-80c3-80cc56deef71",
   "metadata": {
    "tags": []
   },
   "outputs": [
    {
     "data": {
      "text/plain": [
       "299539"
      ]
     },
     "execution_count": 79,
     "metadata": {},
     "output_type": "execute_result"
    }
   ],
   "source": [
    "len(df_embeddings)"
   ]
  },
  {
   "cell_type": "code",
   "execution_count": 22,
   "id": "9a226fdf-3861-4af6-a15c-7b1f71c16787",
   "metadata": {
    "tags": []
   },
   "outputs": [
    {
     "data": {
      "text/plain": [
       "359539"
      ]
     },
     "execution_count": 22,
     "metadata": {},
     "output_type": "execute_result"
    }
   ],
   "source": [
    "len(np.asarray(df_embeddings, dtype=object))"
   ]
  },
  {
   "cell_type": "code",
   "execution_count": 23,
   "id": "39d3dc1c-494d-4c14-bd40-087970cc7954",
   "metadata": {
    "tags": []
   },
   "outputs": [
    {
     "data": {
      "text/plain": [
       "357343"
      ]
     },
     "execution_count": 23,
     "metadata": {},
     "output_type": "execute_result"
    }
   ],
   "source": [
    "len(df_embeddings_filtered)"
   ]
  },
  {
   "cell_type": "code",
   "execution_count": 59,
   "id": "bc16d988-9a2a-4211-9c64-cb476799b975",
   "metadata": {
    "tags": []
   },
   "outputs": [],
   "source": [
    "# df_embeddings_filtered\n",
    "# np.array(df_embeddings_filtered)\n",
    "# pd.DataFrame(data=df_embeddings_filtered,    # values\n",
    "#               index=data[1:,0],    # 1st column as index\n",
    "#               columns=data[0,1:])"
   ]
  },
  {
   "cell_type": "code",
   "execution_count": 51,
   "id": "3dbf338b-62d3-47bd-9a48-f1d312f10a02",
   "metadata": {
    "tags": []
   },
   "outputs": [],
   "source": [
    "# train_filtered = train.drop(np.array(to_drop_idx),axis=1)\n",
    "# train\n",
    "# df_merged = df_final.join(train.set_index(cols), on=cols)\n",
    "# df_embeddings_filtered\n",
    "# df_filtered = messages_df_preprocessed.drop(np.array(to_drop_idx),axis=1)\n",
    "# df\n",
    "# messages_df_preprocessed[0:80000]\n",
    "messages_df_preprocessed['positional_idx'] = np.arange(0, len(messages_df_preprocessed), dtype=int)"
   ]
  },
  {
   "cell_type": "code",
   "execution_count": 54,
   "id": "f48b36dc-0b5b-4a57-a327-b0d8a28fd665",
   "metadata": {
    "tags": []
   },
   "outputs": [],
   "source": [
    "messages_df_preprocessed_filtered = messages_df_preprocessed[~messages_df_preprocessed['positional_idx'].isin(to_drop_idx)]"
   ]
  },
  {
   "cell_type": "code",
   "execution_count": 55,
   "id": "42cd9ebd-11fd-4e4d-a6e5-75fa02ca2efd",
   "metadata": {
    "tags": []
   },
   "outputs": [
    {
     "data": {
      "text/plain": [
       "357343"
      ]
     },
     "execution_count": 55,
     "metadata": {},
     "output_type": "execute_result"
    }
   ],
   "source": [
    "len(messages_df_preprocessed_filtered)"
   ]
  },
  {
   "cell_type": "markdown",
   "id": "94932051-e6fb-4699-aa61-c0c79ea4d33f",
   "metadata": {},
   "source": [
    "### Embedding to dataframe conversion"
   ]
  },
  {
   "cell_type": "code",
   "execution_count": 73,
   "id": "4018517a-b524-4050-a225-6cab99bad3d9",
   "metadata": {
    "tags": []
   },
   "outputs": [],
   "source": [
    "# df_embeddings_filtered.reshape(357343, 1536)\n",
    "df_embeddings_filtered_shaped = np.array([np.array(emb) for emb in df_embeddings_filtered])\n"
   ]
  },
  {
   "cell_type": "code",
   "execution_count": 79,
   "id": "1f866a4a-9453-4743-b9a1-a781374efeaf",
   "metadata": {
    "tags": []
   },
   "outputs": [
    {
     "data": {
      "text/plain": [
       "(357343, 799)"
      ]
     },
     "execution_count": 79,
     "metadata": {},
     "output_type": "execute_result"
    }
   ],
   "source": [
    "from sklearn.decomposition import PCA\n",
    "\n",
    "pca = PCA(n_components=2)\n",
    "pca.fit_transform(df_embeddings_filtered_shaped).shape"
   ]
  },
  {
   "cell_type": "code",
   "execution_count": null,
   "id": "8d23bb76-6cd7-4b00-b42f-b8289fb3099d",
   "metadata": {},
   "outputs": [],
   "source": [
    "# pd.DataFrame(data=df_embeddings_filtered,    # values\n",
    "#               index=messages_df_preprocessed_filtered['positional_idx'],    # 1st column as index\n",
    "#               columns=np.arange(0, len(df_embeddings_filtered), dtype=int))"
   ]
  },
  {
   "cell_type": "code",
   "execution_count": null,
   "id": "459c265e-9de4-4893-9a30-beba453a01e1",
   "metadata": {},
   "outputs": [],
   "source": [
    "# df_embeddings_filtered"
   ]
  },
  {
   "cell_type": "markdown",
   "id": "0f41c049-2af2-4ea2-9574-ed4f6a8eabbb",
   "metadata": {},
   "source": [
    "### Performing xgboost"
   ]
  }
 ],
 "metadata": {
  "kernelspec": {
   "display_name": "Python (df_1)",
   "language": "python",
   "name": "df_1"
  },
  "language_info": {
   "codemirror_mode": {
    "name": "ipython",
    "version": 3
   },
   "file_extension": ".py",
   "mimetype": "text/x-python",
   "name": "python",
   "nbconvert_exporter": "python",
   "pygments_lexer": "ipython3",
   "version": "3.10.14"
  }
 },
 "nbformat": 4,
 "nbformat_minor": 5
}
